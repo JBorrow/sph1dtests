{
 "cells": [
  {
   "cell_type": "code",
   "execution_count": 1,
   "metadata": {
    "collapsed": true
   },
   "outputs": [],
   "source": [
    "%matplotlib inline\n",
    "%config InlineBackend.figure_format = \"svg\""
   ]
  },
  {
   "cell_type": "markdown",
   "metadata": {},
   "source": [
    "GADGET Test\n",
    "======"
   ]
  },
  {
   "cell_type": "code",
   "execution_count": 2,
   "metadata": {},
   "outputs": [
    {
     "ename": "SyntaxError",
     "evalue": "invalid syntax (__init__.py, line 2)",
     "output_type": "error",
     "traceback": [
      "Traceback \u001b[0;36m(most recent call last)\u001b[0m:\n",
      "  File \u001b[1;32m\"/usr/local/lib/python3.6/site-packages/IPython/core/interactiveshell.py\"\u001b[0m, line \u001b[1;32m2910\u001b[0m, in \u001b[1;35mrun_code\u001b[0m\n    exec(code_obj, self.user_global_ns, self.user_ns)\n",
      "\u001b[0;36m  File \u001b[0;32m\"<ipython-input-2-9b330a1595e1>\"\u001b[0;36m, line \u001b[0;32m1\u001b[0;36m, in \u001b[0;35m<module>\u001b[0;36m\u001b[0m\n\u001b[0;31m    from sphtests import GadgetData\u001b[0m\n",
      "\u001b[0;36m  File \u001b[0;32m\"/Users/josh/Documents/sph1d/sphtests/__init__.py\"\u001b[0;36m, line \u001b[0;32m2\u001b[0m\n\u001b[0;31m    import .gadget\u001b[0m\n\u001b[0m           ^\u001b[0m\n\u001b[0;31mSyntaxError\u001b[0m\u001b[0;31m:\u001b[0m invalid syntax\n"
     ]
    }
   ],
   "source": [
    "from sphtests import GadgetData\n",
    "import numpy as np\n",
    "import matplotlib.pyplot as plt"
   ]
  },
  {
   "cell_type": "markdown",
   "metadata": {},
   "source": [
    "First, we'll set up the positions in a similar way:"
   ]
  },
  {
   "cell_type": "code",
   "execution_count": null,
   "metadata": {
    "collapsed": true
   },
   "outputs": [],
   "source": [
    "diff_right = 0.0\n",
    "\n",
    "positions_left = [x/10. for x in range(0, 250)]\n",
    "positions_right = [x - diff_right for x in range(26, 100, 1)]\n",
    "positions = positions_left + positions_right"
   ]
  },
  {
   "cell_type": "markdown",
   "metadata": {},
   "source": [
    "Now we must consider the energies. This is fairly simple due to the way that we set up the positions:"
   ]
  },
  {
   "cell_type": "code",
   "execution_count": null,
   "metadata": {
    "collapsed": true
   },
   "outputs": [],
   "source": [
    "energies_left = [1.0] * len(positions_left)\n",
    "energies_right = [10.0] * len(positions_right)\n",
    "energies = energies_left + energies_right"
   ]
  },
  {
   "cell_type": "code",
   "execution_count": null,
   "metadata": {},
   "outputs": [],
   "source": [
    "plt.scatter(positions, [0]*len(positions), c=energies, s=3)\n",
    "plt.xlim(20, 30)\n",
    "plt.xlabel(\"$x$ position\")\n",
    "plt.colorbar(orientation=\"horizontal\", label=\"Energy\")\n",
    "plt.gca().axes.yaxis.set_visible(False)\n",
    "plt.tight_layout()"
   ]
  },
  {
   "cell_type": "markdown",
   "metadata": {},
   "source": [
    "Looks good! Now we can pass these to our SPH stuff:\n",
    "\n",
    "(note that $\\eta = 5$ is equivalent to 20 neighbors in 1D)."
   ]
  },
  {
   "cell_type": "code",
   "execution_count": null,
   "metadata": {},
   "outputs": [],
   "source": [
    "positions = list(reversed(positions))\n",
    "energies = list(reversed(energies))\n",
    "data = GadgetData(positions, energies, eta=5)"
   ]
  },
  {
   "cell_type": "code",
   "execution_count": null,
   "metadata": {},
   "outputs": [],
   "source": [
    "plt.plot(data.positions, np.log(data.densities))\n",
    "plt.xlim(5, 50)\n",
    "plt.ylabel(r\"log($\\rho$)\")\n",
    "plt.xlabel(\"$x$ position\")\n",
    "plt.title(\"Density Distribution\")"
   ]
  },
  {
   "cell_type": "code",
   "execution_count": null,
   "metadata": {},
   "outputs": [],
   "source": [
    "plt.plot(data.positions, np.log(data.pressures))\n",
    "plt.xlim(5, 50)\n",
    "plt.xlabel(\"$x$ position\")\n",
    "plt.ylabel(\"log($P$)\")\n",
    "plt.title(\"Pressure Distribution\")"
   ]
  },
  {
   "cell_type": "code",
   "execution_count": null,
   "metadata": {},
   "outputs": [],
   "source": [
    "plt.plot(data.positions, np.log(data.energies))\n",
    "plt.xlim(5, 50)\n",
    "plt.xlabel(\"$x$ position\")\n",
    "plt.ylabel(\"log($U$)\")\n",
    "plt.title(\"Internal Energy Distribution\")"
   ]
  },
  {
   "cell_type": "code",
   "execution_count": null,
   "metadata": {},
   "outputs": [],
   "source": [
    "plt.plot(data.positions, data.smoothing_lengths)\n",
    "plt.xlim(5, 50)\n",
    "plt.xlabel(\"$x$ position\")\n",
    "plt.ylabel(\"$h$\")\n",
    "plt.title(\"Smoothing Length\")"
   ]
  },
  {
   "cell_type": "code",
   "execution_count": null,
   "metadata": {
    "collapsed": true
   },
   "outputs": [],
   "source": []
  }
 ],
 "metadata": {
  "kernelspec": {
   "display_name": "Python 3",
   "language": "python",
   "name": "python3"
  },
  "language_info": {
   "codemirror_mode": {
    "name": "ipython",
    "version": 3
   },
   "file_extension": ".py",
   "mimetype": "text/x-python",
   "name": "python",
   "nbconvert_exporter": "python",
   "pygments_lexer": "ipython3",
   "version": "3.6.3"
  }
 },
 "nbformat": 4,
 "nbformat_minor": 2
}
